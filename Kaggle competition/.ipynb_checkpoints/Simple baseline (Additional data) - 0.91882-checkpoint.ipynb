{
 "cells": [
  {
   "cell_type": "code",
   "execution_count": 34,
   "metadata": {
    "ExecuteTime": {
     "end_time": "2019-09-28T11:05:22.922830Z",
     "start_time": "2019-09-28T11:05:22.917552Z"
    }
   },
   "outputs": [],
   "source": [
    "import os\n",
    "import pandas as pd\n",
    "import numpy as np\n",
    "import pickle\n",
    "\n",
    "from scipy import sparse\n",
    "\n",
    "from sklearn.feature_extraction.text import TfidfVectorizer\n",
    "from sklearn.model_selection import TimeSeriesSplit\n",
    "from sklearn.model_selection import cross_val_score\n",
    "from sklearn.linear_model import LogisticRegression\n",
    "from sklearn.preprocessing import StandardScaler\n",
    "\n",
    "import matplotlib.pyplot as plt\n",
    "import seaborn as sns\n",
    "\n",
    "import eli5\n",
    "from IPython.display import display_html\n",
    "\n",
    "from sklearn.feature_selection import RFECV\n",
    "\n",
    "# try https://www.scikit-yb.org/en/latest/index.html"
   ]
  },
  {
   "cell_type": "code",
   "execution_count": 35,
   "metadata": {
    "ExecuteTime": {
     "end_time": "2019-09-28T11:05:23.103382Z",
     "start_time": "2019-09-28T11:05:23.097395Z"
    }
   },
   "outputs": [],
   "source": [
    "SEED = 42"
   ]
  },
  {
   "cell_type": "code",
   "execution_count": 36,
   "metadata": {
    "ExecuteTime": {
     "end_time": "2019-09-28T11:05:23.263253Z",
     "start_time": "2019-09-28T11:05:23.252865Z"
    }
   },
   "outputs": [],
   "source": [
    "def write_to_submission_file(predicted_labels, out_file,\n",
    "                             target='target', index_label=\"session_id\"):\n",
    "    predicted_df = pd.DataFrame(predicted_labels,\n",
    "                                index = np.arange(1, predicted_labels.shape[0] + 1),\n",
    "                                columns=[target])\n",
    "    predicted_df.to_csv(out_file, index_label=index_label)\n",
    "    \n",
    "def save_obj(path, obj):\n",
    "    with open(path, 'wb') as f:\n",
    "        pickle.dump(obj, f, pickle.HIGHEST_PROTOCOL) # HIGHEST_PROTOCOL - binary protocol\n",
    "\n",
    "\n",
    "def load_obj(path):\n",
    "    with open(path, 'rb') as f:\n",
    "        return pickle.load(f)"
   ]
  },
  {
   "cell_type": "markdown",
   "metadata": {},
   "source": [
    "### Data downloading"
   ]
  },
  {
   "cell_type": "code",
   "execution_count": 37,
   "metadata": {
    "ExecuteTime": {
     "end_time": "2019-09-28T11:05:23.577100Z",
     "start_time": "2019-09-28T11:05:23.572186Z"
    }
   },
   "outputs": [],
   "source": [
    "train_data_path = 'Data/additional_train_data.csv'\n",
    "test_data_path = 'Data/test_sessions.csv'\n",
    "dict_path = 'Data/site_dic.pkl'"
   ]
  },
  {
   "cell_type": "code",
   "execution_count": 38,
   "metadata": {
    "ExecuteTime": {
     "end_time": "2019-09-28T11:05:25.204309Z",
     "start_time": "2019-09-28T11:05:23.743451Z"
    }
   },
   "outputs": [
    {
     "data": {
      "text/html": [
       "<div>\n",
       "<style scoped>\n",
       "    .dataframe tbody tr th:only-of-type {\n",
       "        vertical-align: middle;\n",
       "    }\n",
       "\n",
       "    .dataframe tbody tr th {\n",
       "        vertical-align: top;\n",
       "    }\n",
       "\n",
       "    .dataframe thead th {\n",
       "        text-align: right;\n",
       "    }\n",
       "</style>\n",
       "<table border=\"1\" class=\"dataframe\">\n",
       "  <thead>\n",
       "    <tr style=\"text-align: right;\">\n",
       "      <th></th>\n",
       "      <th>Unnamed: 0</th>\n",
       "      <th>session_id</th>\n",
       "      <th>time1</th>\n",
       "      <th>site1</th>\n",
       "      <th>time2</th>\n",
       "      <th>site2</th>\n",
       "      <th>time3</th>\n",
       "      <th>site3</th>\n",
       "      <th>time4</th>\n",
       "      <th>site4</th>\n",
       "      <th>...</th>\n",
       "      <th>site6</th>\n",
       "      <th>time7</th>\n",
       "      <th>site7</th>\n",
       "      <th>time8</th>\n",
       "      <th>site8</th>\n",
       "      <th>time9</th>\n",
       "      <th>site9</th>\n",
       "      <th>time10</th>\n",
       "      <th>site10</th>\n",
       "      <th>target</th>\n",
       "    </tr>\n",
       "  </thead>\n",
       "  <tbody>\n",
       "    <tr>\n",
       "      <td>0</td>\n",
       "      <td>0</td>\n",
       "      <td>1</td>\n",
       "      <td>2013-01-12 08:05:57</td>\n",
       "      <td>safebrowsing.clients.google.com</td>\n",
       "      <td>2013-01-12 08:05:57</td>\n",
       "      <td>safebrowsing-cache.google.com</td>\n",
       "      <td>NaN</td>\n",
       "      <td>NaN</td>\n",
       "      <td>NaN</td>\n",
       "      <td>NaN</td>\n",
       "      <td>...</td>\n",
       "      <td>NaN</td>\n",
       "      <td>NaN</td>\n",
       "      <td>NaN</td>\n",
       "      <td>NaN</td>\n",
       "      <td>NaN</td>\n",
       "      <td>NaN</td>\n",
       "      <td>NaN</td>\n",
       "      <td>NaN</td>\n",
       "      <td>NaN</td>\n",
       "      <td>0</td>\n",
       "    </tr>\n",
       "    <tr>\n",
       "      <td>1</td>\n",
       "      <td>1</td>\n",
       "      <td>2</td>\n",
       "      <td>2013-01-12 08:37:23</td>\n",
       "      <td>safebrowsing.clients.google.com</td>\n",
       "      <td>2013-01-12 08:37:23</td>\n",
       "      <td>safebrowsing-cache.google.com</td>\n",
       "      <td>NaN</td>\n",
       "      <td>NaN</td>\n",
       "      <td>NaN</td>\n",
       "      <td>NaN</td>\n",
       "      <td>...</td>\n",
       "      <td>NaN</td>\n",
       "      <td>NaN</td>\n",
       "      <td>NaN</td>\n",
       "      <td>NaN</td>\n",
       "      <td>NaN</td>\n",
       "      <td>NaN</td>\n",
       "      <td>NaN</td>\n",
       "      <td>NaN</td>\n",
       "      <td>NaN</td>\n",
       "      <td>0</td>\n",
       "    </tr>\n",
       "    <tr>\n",
       "      <td>2</td>\n",
       "      <td>2</td>\n",
       "      <td>3</td>\n",
       "      <td>2013-01-12 08:50:13</td>\n",
       "      <td>www.apache.org</td>\n",
       "      <td>2013-01-12 08:50:14</td>\n",
       "      <td>www.apache.org</td>\n",
       "      <td>2013-01-12 08:50:15</td>\n",
       "      <td>download.eclipse.org</td>\n",
       "      <td>2013-01-12 08:50:15</td>\n",
       "      <td>www.apache.org</td>\n",
       "      <td>...</td>\n",
       "      <td>www.webtide.com</td>\n",
       "      <td>2013-01-12 08:50:16</td>\n",
       "      <td>download.oracle.com</td>\n",
       "      <td>2013-01-12 08:50:16</td>\n",
       "      <td>javadl-esd-secure.oracle.com</td>\n",
       "      <td>2013-01-12 08:50:17</td>\n",
       "      <td>www.caucho.com</td>\n",
       "      <td>2013-01-12 08:50:17</td>\n",
       "      <td>www.apache.org</td>\n",
       "      <td>0</td>\n",
       "    </tr>\n",
       "    <tr>\n",
       "      <td>3</td>\n",
       "      <td>3</td>\n",
       "      <td>4</td>\n",
       "      <td>2013-01-12 08:50:17</td>\n",
       "      <td>www.webtide.com</td>\n",
       "      <td>2013-01-12 08:50:17</td>\n",
       "      <td>download.oracle.com</td>\n",
       "      <td>2013-01-12 08:50:18</td>\n",
       "      <td>www.caucho.com</td>\n",
       "      <td>2013-01-12 08:50:18</td>\n",
       "      <td>download.oracle.com</td>\n",
       "      <td>...</td>\n",
       "      <td>www.apache.org</td>\n",
       "      <td>2013-01-12 08:50:19</td>\n",
       "      <td>public.dhe.ibm.com</td>\n",
       "      <td>2013-01-12 08:50:19</td>\n",
       "      <td>www.webtide.com</td>\n",
       "      <td>2013-01-12 08:50:19</td>\n",
       "      <td>www.apache.org</td>\n",
       "      <td>2013-01-12 08:50:20</td>\n",
       "      <td>www.apache.org</td>\n",
       "      <td>0</td>\n",
       "    </tr>\n",
       "    <tr>\n",
       "      <td>4</td>\n",
       "      <td>4</td>\n",
       "      <td>5</td>\n",
       "      <td>2013-01-12 08:50:20</td>\n",
       "      <td>public.dhe.ibm.com</td>\n",
       "      <td>2013-01-12 08:50:20</td>\n",
       "      <td>jope.ow2.org</td>\n",
       "      <td>2013-01-12 08:50:20</td>\n",
       "      <td>download.oracle.com</td>\n",
       "      <td>2013-01-12 08:50:21</td>\n",
       "      <td>public.dhe.ibm.com</td>\n",
       "      <td>...</td>\n",
       "      <td>master.dl.sourceforge.net</td>\n",
       "      <td>2013-01-12 08:50:21</td>\n",
       "      <td>www.apache.org</td>\n",
       "      <td>2013-01-12 08:50:22</td>\n",
       "      <td>download.eclipse.org</td>\n",
       "      <td>2013-01-12 08:50:22</td>\n",
       "      <td>www.apache.org</td>\n",
       "      <td>2013-01-12 08:50:22</td>\n",
       "      <td>public.dhe.ibm.com</td>\n",
       "      <td>0</td>\n",
       "    </tr>\n",
       "  </tbody>\n",
       "</table>\n",
       "<p>5 rows × 23 columns</p>\n",
       "</div>"
      ],
      "text/plain": [
       "   Unnamed: 0  session_id                time1  \\\n",
       "0           0           1  2013-01-12 08:05:57   \n",
       "1           1           2  2013-01-12 08:37:23   \n",
       "2           2           3  2013-01-12 08:50:13   \n",
       "3           3           4  2013-01-12 08:50:17   \n",
       "4           4           5  2013-01-12 08:50:20   \n",
       "\n",
       "                             site1                time2  \\\n",
       "0  safebrowsing.clients.google.com  2013-01-12 08:05:57   \n",
       "1  safebrowsing.clients.google.com  2013-01-12 08:37:23   \n",
       "2                   www.apache.org  2013-01-12 08:50:14   \n",
       "3                  www.webtide.com  2013-01-12 08:50:17   \n",
       "4               public.dhe.ibm.com  2013-01-12 08:50:20   \n",
       "\n",
       "                           site2                time3                 site3  \\\n",
       "0  safebrowsing-cache.google.com                  NaN                   NaN   \n",
       "1  safebrowsing-cache.google.com                  NaN                   NaN   \n",
       "2                 www.apache.org  2013-01-12 08:50:15  download.eclipse.org   \n",
       "3            download.oracle.com  2013-01-12 08:50:18        www.caucho.com   \n",
       "4                   jope.ow2.org  2013-01-12 08:50:20   download.oracle.com   \n",
       "\n",
       "                 time4                site4  ...                      site6  \\\n",
       "0                  NaN                  NaN  ...                        NaN   \n",
       "1                  NaN                  NaN  ...                        NaN   \n",
       "2  2013-01-12 08:50:15       www.apache.org  ...            www.webtide.com   \n",
       "3  2013-01-12 08:50:18  download.oracle.com  ...             www.apache.org   \n",
       "4  2013-01-12 08:50:21   public.dhe.ibm.com  ...  master.dl.sourceforge.net   \n",
       "\n",
       "                 time7                site7                time8  \\\n",
       "0                  NaN                  NaN                  NaN   \n",
       "1                  NaN                  NaN                  NaN   \n",
       "2  2013-01-12 08:50:16  download.oracle.com  2013-01-12 08:50:16   \n",
       "3  2013-01-12 08:50:19   public.dhe.ibm.com  2013-01-12 08:50:19   \n",
       "4  2013-01-12 08:50:21       www.apache.org  2013-01-12 08:50:22   \n",
       "\n",
       "                          site8                time9           site9  \\\n",
       "0                           NaN                  NaN             NaN   \n",
       "1                           NaN                  NaN             NaN   \n",
       "2  javadl-esd-secure.oracle.com  2013-01-12 08:50:17  www.caucho.com   \n",
       "3               www.webtide.com  2013-01-12 08:50:19  www.apache.org   \n",
       "4          download.eclipse.org  2013-01-12 08:50:22  www.apache.org   \n",
       "\n",
       "                time10              site10 target  \n",
       "0                  NaN                 NaN      0  \n",
       "1                  NaN                 NaN      0  \n",
       "2  2013-01-12 08:50:17      www.apache.org      0  \n",
       "3  2013-01-12 08:50:20      www.apache.org      0  \n",
       "4  2013-01-12 08:50:22  public.dhe.ibm.com      0  \n",
       "\n",
       "[5 rows x 23 columns]"
      ]
     },
     "execution_count": 38,
     "metadata": {},
     "output_type": "execute_result"
    }
   ],
   "source": [
    "raw_train = pd.read_csv(train_data_path)\n",
    "# raw_train.drop('Unnamed: 0', axis = 1, inplace = True) #fix it in data generator file\n",
    "raw_train.head()"
   ]
  },
  {
   "cell_type": "code",
   "execution_count": 39,
   "metadata": {
    "ExecuteTime": {
     "end_time": "2019-09-28T11:05:25.550556Z",
     "start_time": "2019-09-28T11:05:25.205302Z"
    }
   },
   "outputs": [
    {
     "data": {
      "text/html": [
       "<div>\n",
       "<style scoped>\n",
       "    .dataframe tbody tr th:only-of-type {\n",
       "        vertical-align: middle;\n",
       "    }\n",
       "\n",
       "    .dataframe tbody tr th {\n",
       "        vertical-align: top;\n",
       "    }\n",
       "\n",
       "    .dataframe thead th {\n",
       "        text-align: right;\n",
       "    }\n",
       "</style>\n",
       "<table border=\"1\" class=\"dataframe\">\n",
       "  <thead>\n",
       "    <tr style=\"text-align: right;\">\n",
       "      <th></th>\n",
       "      <th>session_id</th>\n",
       "      <th>site1</th>\n",
       "      <th>time1</th>\n",
       "      <th>site2</th>\n",
       "      <th>time2</th>\n",
       "      <th>site3</th>\n",
       "      <th>time3</th>\n",
       "      <th>site4</th>\n",
       "      <th>time4</th>\n",
       "      <th>site5</th>\n",
       "      <th>...</th>\n",
       "      <th>site6</th>\n",
       "      <th>time6</th>\n",
       "      <th>site7</th>\n",
       "      <th>time7</th>\n",
       "      <th>site8</th>\n",
       "      <th>time8</th>\n",
       "      <th>site9</th>\n",
       "      <th>time9</th>\n",
       "      <th>site10</th>\n",
       "      <th>time10</th>\n",
       "    </tr>\n",
       "  </thead>\n",
       "  <tbody>\n",
       "    <tr>\n",
       "      <td>0</td>\n",
       "      <td>1</td>\n",
       "      <td>29</td>\n",
       "      <td>2014-10-04 11:19:53</td>\n",
       "      <td>35.0</td>\n",
       "      <td>2014-10-04 11:19:53</td>\n",
       "      <td>22.0</td>\n",
       "      <td>2014-10-04 11:19:54</td>\n",
       "      <td>321.0</td>\n",
       "      <td>2014-10-04 11:19:54</td>\n",
       "      <td>23.0</td>\n",
       "      <td>...</td>\n",
       "      <td>2211.0</td>\n",
       "      <td>2014-10-04 11:19:54</td>\n",
       "      <td>6730.0</td>\n",
       "      <td>2014-10-04 11:19:54</td>\n",
       "      <td>21.0</td>\n",
       "      <td>2014-10-04 11:19:54</td>\n",
       "      <td>44582.0</td>\n",
       "      <td>2014-10-04 11:20:00</td>\n",
       "      <td>15336.0</td>\n",
       "      <td>2014-10-04 11:20:00</td>\n",
       "    </tr>\n",
       "    <tr>\n",
       "      <td>1</td>\n",
       "      <td>2</td>\n",
       "      <td>782</td>\n",
       "      <td>2014-07-03 11:00:28</td>\n",
       "      <td>782.0</td>\n",
       "      <td>2014-07-03 11:00:53</td>\n",
       "      <td>782.0</td>\n",
       "      <td>2014-07-03 11:00:58</td>\n",
       "      <td>782.0</td>\n",
       "      <td>2014-07-03 11:01:06</td>\n",
       "      <td>782.0</td>\n",
       "      <td>...</td>\n",
       "      <td>782.0</td>\n",
       "      <td>2014-07-03 11:01:10</td>\n",
       "      <td>782.0</td>\n",
       "      <td>2014-07-03 11:01:23</td>\n",
       "      <td>782.0</td>\n",
       "      <td>2014-07-03 11:01:29</td>\n",
       "      <td>782.0</td>\n",
       "      <td>2014-07-03 11:01:30</td>\n",
       "      <td>782.0</td>\n",
       "      <td>2014-07-03 11:01:53</td>\n",
       "    </tr>\n",
       "    <tr>\n",
       "      <td>2</td>\n",
       "      <td>3</td>\n",
       "      <td>55</td>\n",
       "      <td>2014-12-05 15:55:12</td>\n",
       "      <td>55.0</td>\n",
       "      <td>2014-12-05 15:55:13</td>\n",
       "      <td>55.0</td>\n",
       "      <td>2014-12-05 15:55:14</td>\n",
       "      <td>55.0</td>\n",
       "      <td>2014-12-05 15:56:15</td>\n",
       "      <td>55.0</td>\n",
       "      <td>...</td>\n",
       "      <td>55.0</td>\n",
       "      <td>2014-12-05 15:56:17</td>\n",
       "      <td>55.0</td>\n",
       "      <td>2014-12-05 15:56:18</td>\n",
       "      <td>55.0</td>\n",
       "      <td>2014-12-05 15:56:19</td>\n",
       "      <td>1445.0</td>\n",
       "      <td>2014-12-05 15:56:33</td>\n",
       "      <td>1445.0</td>\n",
       "      <td>2014-12-05 15:56:36</td>\n",
       "    </tr>\n",
       "    <tr>\n",
       "      <td>3</td>\n",
       "      <td>4</td>\n",
       "      <td>1023</td>\n",
       "      <td>2014-11-04 10:03:19</td>\n",
       "      <td>1022.0</td>\n",
       "      <td>2014-11-04 10:03:19</td>\n",
       "      <td>50.0</td>\n",
       "      <td>2014-11-04 10:03:20</td>\n",
       "      <td>222.0</td>\n",
       "      <td>2014-11-04 10:03:21</td>\n",
       "      <td>202.0</td>\n",
       "      <td>...</td>\n",
       "      <td>3374.0</td>\n",
       "      <td>2014-11-04 10:03:22</td>\n",
       "      <td>50.0</td>\n",
       "      <td>2014-11-04 10:03:22</td>\n",
       "      <td>48.0</td>\n",
       "      <td>2014-11-04 10:03:22</td>\n",
       "      <td>48.0</td>\n",
       "      <td>2014-11-04 10:03:23</td>\n",
       "      <td>3374.0</td>\n",
       "      <td>2014-11-04 10:03:23</td>\n",
       "    </tr>\n",
       "    <tr>\n",
       "      <td>4</td>\n",
       "      <td>5</td>\n",
       "      <td>301</td>\n",
       "      <td>2014-05-16 15:05:31</td>\n",
       "      <td>301.0</td>\n",
       "      <td>2014-05-16 15:05:32</td>\n",
       "      <td>301.0</td>\n",
       "      <td>2014-05-16 15:05:33</td>\n",
       "      <td>66.0</td>\n",
       "      <td>2014-05-16 15:05:39</td>\n",
       "      <td>67.0</td>\n",
       "      <td>...</td>\n",
       "      <td>69.0</td>\n",
       "      <td>2014-05-16 15:05:40</td>\n",
       "      <td>70.0</td>\n",
       "      <td>2014-05-16 15:05:40</td>\n",
       "      <td>68.0</td>\n",
       "      <td>2014-05-16 15:05:40</td>\n",
       "      <td>71.0</td>\n",
       "      <td>2014-05-16 15:05:40</td>\n",
       "      <td>167.0</td>\n",
       "      <td>2014-05-16 15:05:44</td>\n",
       "    </tr>\n",
       "  </tbody>\n",
       "</table>\n",
       "<p>5 rows × 21 columns</p>\n",
       "</div>"
      ],
      "text/plain": [
       "   session_id  site1                time1   site2                time2  site3  \\\n",
       "0           1     29  2014-10-04 11:19:53    35.0  2014-10-04 11:19:53   22.0   \n",
       "1           2    782  2014-07-03 11:00:28   782.0  2014-07-03 11:00:53  782.0   \n",
       "2           3     55  2014-12-05 15:55:12    55.0  2014-12-05 15:55:13   55.0   \n",
       "3           4   1023  2014-11-04 10:03:19  1022.0  2014-11-04 10:03:19   50.0   \n",
       "4           5    301  2014-05-16 15:05:31   301.0  2014-05-16 15:05:32  301.0   \n",
       "\n",
       "                 time3  site4                time4  site5  ...   site6  \\\n",
       "0  2014-10-04 11:19:54  321.0  2014-10-04 11:19:54   23.0  ...  2211.0   \n",
       "1  2014-07-03 11:00:58  782.0  2014-07-03 11:01:06  782.0  ...   782.0   \n",
       "2  2014-12-05 15:55:14   55.0  2014-12-05 15:56:15   55.0  ...    55.0   \n",
       "3  2014-11-04 10:03:20  222.0  2014-11-04 10:03:21  202.0  ...  3374.0   \n",
       "4  2014-05-16 15:05:33   66.0  2014-05-16 15:05:39   67.0  ...    69.0   \n",
       "\n",
       "                 time6   site7                time7  site8  \\\n",
       "0  2014-10-04 11:19:54  6730.0  2014-10-04 11:19:54   21.0   \n",
       "1  2014-07-03 11:01:10   782.0  2014-07-03 11:01:23  782.0   \n",
       "2  2014-12-05 15:56:17    55.0  2014-12-05 15:56:18   55.0   \n",
       "3  2014-11-04 10:03:22    50.0  2014-11-04 10:03:22   48.0   \n",
       "4  2014-05-16 15:05:40    70.0  2014-05-16 15:05:40   68.0   \n",
       "\n",
       "                 time8    site9                time9   site10  \\\n",
       "0  2014-10-04 11:19:54  44582.0  2014-10-04 11:20:00  15336.0   \n",
       "1  2014-07-03 11:01:29    782.0  2014-07-03 11:01:30    782.0   \n",
       "2  2014-12-05 15:56:19   1445.0  2014-12-05 15:56:33   1445.0   \n",
       "3  2014-11-04 10:03:22     48.0  2014-11-04 10:03:23   3374.0   \n",
       "4  2014-05-16 15:05:40     71.0  2014-05-16 15:05:40    167.0   \n",
       "\n",
       "                time10  \n",
       "0  2014-10-04 11:20:00  \n",
       "1  2014-07-03 11:01:53  \n",
       "2  2014-12-05 15:56:36  \n",
       "3  2014-11-04 10:03:23  \n",
       "4  2014-05-16 15:05:44  \n",
       "\n",
       "[5 rows x 21 columns]"
      ]
     },
     "execution_count": 39,
     "metadata": {},
     "output_type": "execute_result"
    }
   ],
   "source": [
    "raw_test = pd.read_csv(test_data_path)\n",
    "raw_test.head()"
   ]
  },
  {
   "cell_type": "code",
   "execution_count": 40,
   "metadata": {
    "ExecuteTime": {
     "end_time": "2019-09-28T11:05:25.563377Z",
     "start_time": "2019-09-28T11:05:25.551939Z"
    }
   },
   "outputs": [],
   "source": [
    "with open(dict_path, 'rb') as file:\n",
    "    site2id_dict = pickle.load(file)"
   ]
  },
  {
   "cell_type": "code",
   "execution_count": 41,
   "metadata": {
    "ExecuteTime": {
     "end_time": "2019-09-28T11:05:26.321315Z",
     "start_time": "2019-09-28T11:05:26.316228Z"
    }
   },
   "outputs": [
    {
     "name": "stdout",
     "output_type": "stream",
     "text": [
      "(267158, 23) (82797, 21)\n"
     ]
    }
   ],
   "source": [
    "print(raw_train.shape, raw_test.shape)"
   ]
  },
  {
   "cell_type": "markdown",
   "metadata": {},
   "source": [
    "https://www.kaggle.com/kashnitsky/model-validation-in-a-competition#Submission-3:-Example-of-overfitting"
   ]
  },
  {
   "cell_type": "markdown",
   "metadata": {},
   "source": [
    "### Bag of words (TfidfVectorizer) preparation"
   ]
  },
  {
   "cell_type": "code",
   "execution_count": 42,
   "metadata": {
    "ExecuteTime": {
     "end_time": "2019-09-28T11:05:27.357482Z",
     "start_time": "2019-09-28T11:05:27.347624Z"
    }
   },
   "outputs": [],
   "source": [
    "def prepare_tfidf_features(train_df, test_df, site_dict, vectorizer_params, decode_train = True):\n",
    "    site_columns = ['site{}'.format(i) for i in range(1, 11)]\n",
    "    time_columns = ['time{}'.format(i) for i in range(1, 11)]\n",
    "    \n",
    "    # Make inverse dict\n",
    "    id2site_dict = {v: k for (k, v) in site2id_dict.items()}\n",
    "    id2site_dict[0] = 'unknown'\n",
    "    \n",
    "    if decode_train:\n",
    "        # Sort values by initial session time to avoid a data leak during cross-validation.\n",
    "        # Prepare df for mapping\n",
    "        train_df = train_df.sort_values('time1').reset_index(drop = True)\n",
    "        train_sessions = train_df[site_columns].fillna(0).astype('int').apply(lambda row:\n",
    "                                                                              ' '.join([id2site_dict[i] for i in row]), axis = 1).tolist()\n",
    "    else:\n",
    "        # Use it for additional data\n",
    "        train_df = train_df.sort_values('time1').reset_index(drop = True)\n",
    "        train_sessions = train_df[site_columns].fillna('unknown').apply(lambda row:\n",
    "                                                                              ' '.join([word for word in row]), axis = 1).tolist()\n",
    "        \n",
    "    test_sessions = test_df[site_columns].fillna(0).astype('int').apply(lambda row:\n",
    "                                                                          ' '.join([id2site_dict[i] for i in row]), axis = 1).tolist()\n",
    "    # encoding\n",
    "    vectorizer = TfidfVectorizer(**vectorizer_params)\n",
    "    X_train_tfidf =  vectorizer.fit_transform(train_sessions)\n",
    "    X_test_tfidf = vectorizer.transform(test_sessions)\n",
    "    \n",
    "    tfidf_feature_names = vectorizer.get_feature_names() \n",
    "    \n",
    "    y_train = train_df ['target'].astype('int').to_numpy()\n",
    "    \n",
    "    for column_name in time_columns:\n",
    "        train_df[column_name] = pd.to_datetime(train_df[column_name])\n",
    "        test_df[column_name] = pd.to_datetime(test_df[column_name])\n",
    "        \n",
    "    X_train_time = train_df[time_columns]\n",
    "    X_test_time = test_df[time_columns]\n",
    "    \n",
    "    \n",
    "    \n",
    "    return list(tfidf_feature_names), X_train_tfidf, X_test_tfidf, X_train_time, X_test_time, y_train"
   ]
  },
  {
   "cell_type": "code",
   "execution_count": 43,
   "metadata": {
    "ExecuteTime": {
     "end_time": "2019-09-28T11:05:27.532049Z",
     "start_time": "2019-09-28T11:05:27.525059Z"
    }
   },
   "outputs": [],
   "source": [
    "vectorizer_params={'ngram_range': (1, 5), \n",
    "                    'max_features': 50000,\n",
    "                    'tokenizer': lambda s: s.split()}"
   ]
  },
  {
   "cell_type": "code",
   "execution_count": 44,
   "metadata": {
    "ExecuteTime": {
     "end_time": "2019-09-28T11:05:50.962804Z",
     "start_time": "2019-09-28T11:05:27.695880Z"
    }
   },
   "outputs": [
    {
     "name": "stdout",
     "output_type": "stream",
     "text": [
      "CPU times: user 29.8 s, sys: 776 ms, total: 30.5 s\n",
      "Wall time: 23.3 s\n"
     ]
    }
   ],
   "source": [
    "%%time\n",
    "temp_output = prepare_tfidf_features(raw_train, raw_test, site_dict = site2id_dict, \n",
    "                                     vectorizer_params = vectorizer_params, decode_train = False)\n",
    "tfidf_feature_names, X_train_tfidf, X_test_tfidf, X_train_time, X_test_time, y_train = temp_output"
   ]
  },
  {
   "cell_type": "markdown",
   "metadata": {},
   "source": [
    "### Naive linear model"
   ]
  },
  {
   "cell_type": "markdown",
   "metadata": {},
   "source": [
    "Set up cross-validation strategy"
   ]
  },
  {
   "cell_type": "code",
   "execution_count": 45,
   "metadata": {
    "ExecuteTime": {
     "end_time": "2019-09-28T11:05:50.966634Z",
     "start_time": "2019-09-28T11:05:50.964549Z"
    }
   },
   "outputs": [],
   "source": [
    "cross_val_time_split = TimeSeriesSplit(n_splits = 10)"
   ]
  },
  {
   "cell_type": "markdown",
   "metadata": {},
   "source": [
    "Create logistic model"
   ]
  },
  {
   "cell_type": "code",
   "execution_count": 46,
   "metadata": {
    "ExecuteTime": {
     "end_time": "2019-09-28T11:05:51.078905Z",
     "start_time": "2019-09-28T11:05:50.968148Z"
    }
   },
   "outputs": [],
   "source": [
    "logistic_params = {'random_state': SEED, \n",
    "                   'solver': 'liblinear',\n",
    "                   'C': 1}\n",
    "logit = LogisticRegression(**logistic_params)"
   ]
  },
  {
   "cell_type": "code",
   "execution_count": 47,
   "metadata": {
    "ExecuteTime": {
     "end_time": "2019-09-28T11:05:57.151513Z",
     "start_time": "2019-09-28T11:05:51.080117Z"
    }
   },
   "outputs": [],
   "source": [
    "naive_cross_val_score = cross_val_score(logit, X_train_tfidf, y_train, \n",
    "                                        cv = cross_val_time_split, scoring = 'roc_auc')"
   ]
  },
  {
   "cell_type": "code",
   "execution_count": 48,
   "metadata": {
    "ExecuteTime": {
     "end_time": "2019-09-28T11:05:57.155676Z",
     "start_time": "2019-09-28T11:05:57.152590Z"
    }
   },
   "outputs": [
    {
     "name": "stdout",
     "output_type": "stream",
     "text": [
      "roc-auc scores by folds: \n",
      " [0.81285366 0.65483837 0.86072112 0.93147967 0.84987778 0.89796109\n",
      " 0.73395211 0.87981841 0.92138781 0.92021019]\n",
      "\n",
      "mean roc-auc score:  0.846310020324878\n"
     ]
    }
   ],
   "source": [
    "print('roc-auc scores by folds: \\n', naive_cross_val_score)\n",
    "print()\n",
    "print('mean roc-auc score: ', naive_cross_val_score.mean())"
   ]
  },
  {
   "cell_type": "code",
   "execution_count": 49,
   "metadata": {
    "ExecuteTime": {
     "end_time": "2019-09-28T11:05:58.595851Z",
     "start_time": "2019-09-28T11:05:57.156887Z"
    }
   },
   "outputs": [],
   "source": [
    "logit.fit(X_train_tfidf, y_train)\n",
    "naive_logit_predictions = logit.predict_proba(X_test_tfidf)[:, 1]"
   ]
  },
  {
   "cell_type": "code",
   "execution_count": 50,
   "metadata": {
    "ExecuteTime": {
     "end_time": "2019-09-28T11:05:58.770705Z",
     "start_time": "2019-09-28T11:05:58.596867Z"
    }
   },
   "outputs": [],
   "source": [
    "write_to_submission_file(naive_logit_predictions, 'Predictions/naive_logit_predictions_add_data.csv')"
   ]
  },
  {
   "cell_type": "code",
   "execution_count": 51,
   "metadata": {
    "ExecuteTime": {
     "end_time": "2019-09-28T11:05:58.777865Z",
     "start_time": "2019-09-28T11:05:58.773520Z"
    }
   },
   "outputs": [
    {
     "name": "stdout",
     "output_type": "stream",
     "text": [
      "0.91882\n"
     ]
    }
   ],
   "source": [
    "naive_kaggle_result = 0.91882\n",
    "print(naive_kaggle_result)"
   ]
  },
  {
   "cell_type": "code",
   "execution_count": 52,
   "metadata": {
    "ExecuteTime": {
     "end_time": "2019-09-28T11:05:58.868989Z",
     "start_time": "2019-09-28T11:05:58.783157Z"
    }
   },
   "outputs": [
    {
     "data": {
      "text/html": [
       "\n",
       "    <style>\n",
       "    table.eli5-weights tr:hover {\n",
       "        filter: brightness(85%);\n",
       "    }\n",
       "</style>\n",
       "\n",
       "\n",
       "\n",
       "    \n",
       "\n",
       "    \n",
       "\n",
       "    \n",
       "\n",
       "    \n",
       "\n",
       "    \n",
       "\n",
       "    \n",
       "\n",
       "\n",
       "    \n",
       "\n",
       "    \n",
       "\n",
       "    \n",
       "\n",
       "    \n",
       "        \n",
       "\n",
       "    \n",
       "\n",
       "        \n",
       "            \n",
       "                \n",
       "                \n",
       "    \n",
       "        <p style=\"margin-bottom: 0.5em; margin-top: 0em\">\n",
       "            <b>\n",
       "    \n",
       "        y=1\n",
       "    \n",
       "</b>\n",
       "\n",
       "top features\n",
       "        </p>\n",
       "    \n",
       "    <table class=\"eli5-weights\"\n",
       "           style=\"border-collapse: collapse; border: none; margin-top: 0em; table-layout: auto; margin-bottom: 2em;\">\n",
       "        <thead>\n",
       "        <tr style=\"border: none;\">\n",
       "            \n",
       "                <th style=\"padding: 0 1em 0 0.5em; text-align: right; border: none;\" title=\"Feature weights. Note that weights do not account for feature value scales, so if feature values have different scales, features with highest weights might not be the most important.\">\n",
       "                    Weight<sup>?</sup>\n",
       "                </th>\n",
       "            \n",
       "            <th style=\"padding: 0 0.5em 0 0.5em; text-align: left; border: none;\">Feature</th>\n",
       "            \n",
       "        </tr>\n",
       "        </thead>\n",
       "        <tbody>\n",
       "        \n",
       "            <tr style=\"background-color: hsl(120, 100.00%, 80.00%); border: none;\">\n",
       "    <td style=\"padding: 0 1em 0 0.5em; text-align: right; border: none;\">\n",
       "        +6.095\n",
       "    </td>\n",
       "    <td style=\"padding: 0 0.5em 0 0.5em; text-align: left; border: none;\">\n",
       "        youwatch.org\n",
       "    </td>\n",
       "    \n",
       "</tr>\n",
       "        \n",
       "            <tr style=\"background-color: hsl(120, 100.00%, 81.38%); border: none;\">\n",
       "    <td style=\"padding: 0 1em 0 0.5em; text-align: right; border: none;\">\n",
       "        +5.504\n",
       "    </td>\n",
       "    <td style=\"padding: 0 0.5em 0 0.5em; text-align: left; border: none;\">\n",
       "        fr.glee.wikia.com\n",
       "    </td>\n",
       "    \n",
       "</tr>\n",
       "        \n",
       "            <tr style=\"background-color: hsl(120, 100.00%, 82.12%); border: none;\">\n",
       "    <td style=\"padding: 0 1em 0 0.5em; text-align: right; border: none;\">\n",
       "        +5.195\n",
       "    </td>\n",
       "    <td style=\"padding: 0 0.5em 0 0.5em; text-align: left; border: none;\">\n",
       "        cid-ed6c3e6a5c6608a4.users.storage.live.com\n",
       "    </td>\n",
       "    \n",
       "</tr>\n",
       "        \n",
       "            <tr style=\"background-color: hsl(120, 100.00%, 82.21%); border: none;\">\n",
       "    <td style=\"padding: 0 1em 0 0.5em; text-align: right; border: none;\">\n",
       "        +5.157\n",
       "    </td>\n",
       "    <td style=\"padding: 0 0.5em 0 0.5em; text-align: left; border: none;\">\n",
       "        vk.com\n",
       "    </td>\n",
       "    \n",
       "</tr>\n",
       "        \n",
       "            <tr style=\"background-color: hsl(120, 100.00%, 82.73%); border: none;\">\n",
       "    <td style=\"padding: 0 1em 0 0.5em; text-align: right; border: none;\">\n",
       "        +4.944\n",
       "    </td>\n",
       "    <td style=\"padding: 0 0.5em 0 0.5em; text-align: left; border: none;\">\n",
       "        www.info-jeunes.net\n",
       "    </td>\n",
       "    \n",
       "</tr>\n",
       "        \n",
       "            <tr style=\"background-color: hsl(120, 100.00%, 83.90%); border: none;\">\n",
       "    <td style=\"padding: 0 1em 0 0.5em; text-align: right; border: none;\">\n",
       "        +4.470\n",
       "    </td>\n",
       "    <td style=\"padding: 0 0.5em 0 0.5em; text-align: left; border: none;\">\n",
       "        www.banque-chalus.fr\n",
       "    </td>\n",
       "    \n",
       "</tr>\n",
       "        \n",
       "            <tr style=\"background-color: hsl(120, 100.00%, 84.61%); border: none;\">\n",
       "    <td style=\"padding: 0 1em 0 0.5em; text-align: right; border: none;\">\n",
       "        +4.191\n",
       "    </td>\n",
       "    <td style=\"padding: 0 0.5em 0 0.5em; text-align: left; border: none;\">\n",
       "        www.express.co.uk\n",
       "    </td>\n",
       "    \n",
       "</tr>\n",
       "        \n",
       "            <tr style=\"background-color: hsl(120, 100.00%, 84.85%); border: none;\">\n",
       "    <td style=\"padding: 0 1em 0 0.5em; text-align: right; border: none;\">\n",
       "        +4.099\n",
       "    </td>\n",
       "    <td style=\"padding: 0 0.5em 0 0.5em; text-align: left; border: none;\">\n",
       "        glee.hypnoweb.net\n",
       "    </td>\n",
       "    \n",
       "</tr>\n",
       "        \n",
       "            <tr style=\"background-color: hsl(120, 100.00%, 84.89%); border: none;\">\n",
       "    <td style=\"padding: 0 1em 0 0.5em; text-align: right; border: none;\">\n",
       "        +4.083\n",
       "    </td>\n",
       "    <td style=\"padding: 0 0.5em 0 0.5em; text-align: left; border: none;\">\n",
       "        r4---sn-gxo5uxg-jqbe.googlevideo.com\n",
       "    </td>\n",
       "    \n",
       "</tr>\n",
       "        \n",
       "            <tr style=\"background-color: hsl(120, 100.00%, 85.00%); border: none;\">\n",
       "    <td style=\"padding: 0 1em 0 0.5em; text-align: right; border: none;\">\n",
       "        +4.041\n",
       "    </td>\n",
       "    <td style=\"padding: 0 0.5em 0 0.5em; text-align: left; border: none;\">\n",
       "        www.melty.fr\n",
       "    </td>\n",
       "    \n",
       "</tr>\n",
       "        \n",
       "            <tr style=\"background-color: hsl(120, 100.00%, 85.03%); border: none;\">\n",
       "    <td style=\"padding: 0 1em 0 0.5em; text-align: right; border: none;\">\n",
       "        +4.031\n",
       "    </td>\n",
       "    <td style=\"padding: 0 0.5em 0 0.5em; text-align: left; border: none;\">\n",
       "        www.audienceinsights.net\n",
       "    </td>\n",
       "    \n",
       "</tr>\n",
       "        \n",
       "            <tr style=\"background-color: hsl(120, 100.00%, 85.56%); border: none;\">\n",
       "    <td style=\"padding: 0 1em 0 0.5em; text-align: right; border: none;\">\n",
       "        +3.828\n",
       "    </td>\n",
       "    <td style=\"padding: 0 0.5em 0 0.5em; text-align: left; border: none;\">\n",
       "        reviewer.lavoixdunord.fr\n",
       "    </td>\n",
       "    \n",
       "</tr>\n",
       "        \n",
       "            <tr style=\"background-color: hsl(120, 100.00%, 85.61%); border: none;\">\n",
       "    <td style=\"padding: 0 1em 0 0.5em; text-align: right; border: none;\">\n",
       "        +3.807\n",
       "    </td>\n",
       "    <td style=\"padding: 0 0.5em 0 0.5em; text-align: left; border: none;\">\n",
       "        browser-update.org\n",
       "    </td>\n",
       "    \n",
       "</tr>\n",
       "        \n",
       "            <tr style=\"background-color: hsl(120, 100.00%, 85.68%); border: none;\">\n",
       "    <td style=\"padding: 0 1em 0 0.5em; text-align: right; border: none;\">\n",
       "        +3.781\n",
       "    </td>\n",
       "    <td style=\"padding: 0 0.5em 0 0.5em; text-align: left; border: none;\">\n",
       "        media-1.melty.fr\n",
       "    </td>\n",
       "    \n",
       "</tr>\n",
       "        \n",
       "            <tr style=\"background-color: hsl(120, 100.00%, 85.90%); border: none;\">\n",
       "    <td style=\"padding: 0 1em 0 0.5em; text-align: right; border: none;\">\n",
       "        +3.698\n",
       "    </td>\n",
       "    <td style=\"padding: 0 0.5em 0 0.5em; text-align: left; border: none;\">\n",
       "        i1.ytimg.com\n",
       "    </td>\n",
       "    \n",
       "</tr>\n",
       "        \n",
       "            <tr style=\"background-color: hsl(120, 100.00%, 85.96%); border: none;\">\n",
       "    <td style=\"padding: 0 1em 0 0.5em; text-align: right; border: none;\">\n",
       "        +3.678\n",
       "    </td>\n",
       "    <td style=\"padding: 0 0.5em 0 0.5em; text-align: left; border: none;\">\n",
       "        www.kelbillet.com\n",
       "    </td>\n",
       "    \n",
       "</tr>\n",
       "        \n",
       "            <tr style=\"background-color: hsl(120, 100.00%, 86.09%); border: none;\">\n",
       "    <td style=\"padding: 0 1em 0 0.5em; text-align: right; border: none;\">\n",
       "        +3.630\n",
       "    </td>\n",
       "    <td style=\"padding: 0 0.5em 0 0.5em; text-align: left; border: none;\">\n",
       "        www.bbc.co.uk\n",
       "    </td>\n",
       "    \n",
       "</tr>\n",
       "        \n",
       "            <tr style=\"background-color: hsl(120, 100.00%, 86.10%); border: none;\">\n",
       "    <td style=\"padding: 0 1em 0 0.5em; text-align: right; border: none;\">\n",
       "        +3.624\n",
       "    </td>\n",
       "    <td style=\"padding: 0 0.5em 0 0.5em; text-align: left; border: none;\">\n",
       "        r3---sn-gxo5uxg-jqbe.googlevideo.com\n",
       "    </td>\n",
       "    \n",
       "</tr>\n",
       "        \n",
       "            <tr style=\"background-color: hsl(120, 100.00%, 86.24%); border: none;\">\n",
       "    <td style=\"padding: 0 1em 0 0.5em; text-align: right; border: none;\">\n",
       "        +3.573\n",
       "    </td>\n",
       "    <td style=\"padding: 0 0.5em 0 0.5em; text-align: left; border: none;\">\n",
       "        dub119.mail.live.com\n",
       "    </td>\n",
       "    \n",
       "</tr>\n",
       "        \n",
       "            <tr style=\"background-color: hsl(120, 100.00%, 86.32%); border: none;\">\n",
       "    <td style=\"padding: 0 1em 0 0.5em; text-align: right; border: none;\">\n",
       "        +3.544\n",
       "    </td>\n",
       "    <td style=\"padding: 0 0.5em 0 0.5em; text-align: left; border: none;\">\n",
       "        api.bing.com\n",
       "    </td>\n",
       "    \n",
       "</tr>\n",
       "        \n",
       "            <tr style=\"background-color: hsl(120, 100.00%, 86.34%); border: none;\">\n",
       "    <td style=\"padding: 0 1em 0 0.5em; text-align: right; border: none;\">\n",
       "        +3.535\n",
       "    </td>\n",
       "    <td style=\"padding: 0 0.5em 0 0.5em; text-align: left; border: none;\">\n",
       "        www.video.tt\n",
       "    </td>\n",
       "    \n",
       "</tr>\n",
       "        \n",
       "            <tr style=\"background-color: hsl(120, 100.00%, 86.41%); border: none;\">\n",
       "    <td style=\"padding: 0 1em 0 0.5em; text-align: right; border: none;\">\n",
       "        +3.511\n",
       "    </td>\n",
       "    <td style=\"padding: 0 0.5em 0 0.5em; text-align: left; border: none;\">\n",
       "        demotivateur.disqus.com\n",
       "    </td>\n",
       "    \n",
       "</tr>\n",
       "        \n",
       "            <tr style=\"background-color: hsl(120, 100.00%, 86.41%); border: none;\">\n",
       "    <td style=\"padding: 0 1em 0 0.5em; text-align: right; border: none;\">\n",
       "        +3.509\n",
       "    </td>\n",
       "    <td style=\"padding: 0 0.5em 0 0.5em; text-align: left; border: none;\">\n",
       "        www.cjn.justice.gouv.fr\n",
       "    </td>\n",
       "    \n",
       "</tr>\n",
       "        \n",
       "            <tr style=\"background-color: hsl(120, 100.00%, 86.48%); border: none;\">\n",
       "    <td style=\"padding: 0 1em 0 0.5em; text-align: right; border: none;\">\n",
       "        +3.484\n",
       "    </td>\n",
       "    <td style=\"padding: 0 0.5em 0 0.5em; text-align: left; border: none;\">\n",
       "        www13.glam.com\n",
       "    </td>\n",
       "    \n",
       "</tr>\n",
       "        \n",
       "            <tr style=\"background-color: hsl(120, 100.00%, 86.55%); border: none;\">\n",
       "    <td style=\"padding: 0 1em 0 0.5em; text-align: right; border: none;\">\n",
       "        +3.456\n",
       "    </td>\n",
       "    <td style=\"padding: 0 0.5em 0 0.5em; text-align: left; border: none;\">\n",
       "        www.purepeople.com\n",
       "    </td>\n",
       "    \n",
       "</tr>\n",
       "        \n",
       "            <tr style=\"background-color: hsl(120, 100.00%, 86.61%); border: none;\">\n",
       "    <td style=\"padding: 0 1em 0 0.5em; text-align: right; border: none;\">\n",
       "        +3.435\n",
       "    </td>\n",
       "    <td style=\"padding: 0 0.5em 0 0.5em; text-align: left; border: none;\">\n",
       "        r1---sn-gxo5uxg-jqbe.googlevideo.com\n",
       "    </td>\n",
       "    \n",
       "</tr>\n",
       "        \n",
       "            <tr style=\"background-color: hsl(120, 100.00%, 86.85%); border: none;\">\n",
       "    <td style=\"padding: 0 1em 0 0.5em; text-align: right; border: none;\">\n",
       "        +3.349\n",
       "    </td>\n",
       "    <td style=\"padding: 0 0.5em 0 0.5em; text-align: left; border: none;\">\n",
       "        fr.msn.com\n",
       "    </td>\n",
       "    \n",
       "</tr>\n",
       "        \n",
       "        \n",
       "            <tr style=\"background-color: hsl(120, 100.00%, 86.85%); border: none;\">\n",
       "                <td colspan=\"2\" style=\"padding: 0 0.5em 0 0.5em; text-align: center; border: none; white-space: nowrap;\">\n",
       "                    <i>&hellip; 4866 more positive &hellip;</i>\n",
       "                </td>\n",
       "            </tr>\n",
       "        \n",
       "\n",
       "        \n",
       "            <tr style=\"background-color: hsl(0, 100.00%, 85.33%); border: none;\">\n",
       "                <td colspan=\"2\" style=\"padding: 0 0.5em 0 0.5em; text-align: center; border: none; white-space: nowrap;\">\n",
       "                    <i>&hellip; 45105 more negative &hellip;</i>\n",
       "                </td>\n",
       "            </tr>\n",
       "        \n",
       "        \n",
       "            <tr style=\"background-color: hsl(0, 100.00%, 85.33%); border: none;\">\n",
       "    <td style=\"padding: 0 1em 0 0.5em; text-align: right; border: none;\">\n",
       "        -3.917\n",
       "    </td>\n",
       "    <td style=\"padding: 0 0.5em 0 0.5em; text-align: left; border: none;\">\n",
       "        mail.google.com\n",
       "    </td>\n",
       "    \n",
       "</tr>\n",
       "        \n",
       "            <tr style=\"background-color: hsl(0, 100.00%, 82.17%); border: none;\">\n",
       "    <td style=\"padding: 0 1em 0 0.5em; text-align: right; border: none;\">\n",
       "        -5.175\n",
       "    </td>\n",
       "    <td style=\"padding: 0 0.5em 0 0.5em; text-align: left; border: none;\">\n",
       "        plus.google.com\n",
       "    </td>\n",
       "    \n",
       "</tr>\n",
       "        \n",
       "            <tr style=\"background-color: hsl(0, 100.00%, 81.24%); border: none;\">\n",
       "    <td style=\"padding: 0 1em 0 0.5em; text-align: right; border: none;\">\n",
       "        -5.563\n",
       "    </td>\n",
       "    <td style=\"padding: 0 0.5em 0 0.5em; text-align: left; border: none;\">\n",
       "        &lt;BIAS&gt;\n",
       "    </td>\n",
       "    \n",
       "</tr>\n",
       "        \n",
       "\n",
       "        </tbody>\n",
       "    </table>\n",
       "\n",
       "            \n",
       "        \n",
       "\n",
       "        \n",
       "\n",
       "\n",
       "\n",
       "    \n",
       "\n",
       "    \n",
       "\n",
       "    \n",
       "\n",
       "    \n",
       "\n",
       "\n",
       "    \n",
       "\n",
       "    \n",
       "\n",
       "    \n",
       "\n",
       "    \n",
       "\n",
       "    \n",
       "\n",
       "    \n",
       "\n",
       "\n",
       "    \n",
       "\n",
       "    \n",
       "\n",
       "    \n",
       "\n",
       "    \n",
       "\n",
       "    \n",
       "\n",
       "    \n",
       "\n",
       "\n",
       "\n"
      ],
      "text/plain": [
       "<IPython.core.display.HTML object>"
      ]
     },
     "execution_count": 52,
     "metadata": {},
     "output_type": "execute_result"
    }
   ],
   "source": [
    "eli5.show_weights(estimator = logit,\n",
    "                  feature_names = tfidf_feature_names,\n",
    "                  top = 30)"
   ]
  },
  {
   "cell_type": "markdown",
   "metadata": {},
   "source": [
    "### EDA"
   ]
  },
  {
   "cell_type": "code",
   "execution_count": 53,
   "metadata": {
    "ExecuteTime": {
     "end_time": "2019-09-28T11:05:58.953069Z",
     "start_time": "2019-09-28T11:05:58.870365Z"
    }
   },
   "outputs": [],
   "source": [
    "viz_data = X_train_time.copy()\n",
    "viz_data['target'] = y_train"
   ]
  },
  {
   "cell_type": "code",
   "execution_count": 54,
   "metadata": {
    "ExecuteTime": {
     "end_time": "2019-09-28T11:05:59.192238Z",
     "start_time": "2019-09-28T11:05:58.957325Z"
    }
   },
   "outputs": [
    {
     "data": {
      "image/png": "[encoded data removed]",
      "text/plain": [
       "<Figure size 432x288 with 1 Axes>"
      ]
     },
     "metadata": {
      "needs_background": "light"
     },
     "output_type": "display_data"
    }
   ],
   "source": [
    "viz_data['target'].value_counts().reset_index().plot.bar(x = 'index', y = 'target')\n",
    "plt.title('Target distribution')\n",
    "plt.show()"
   ]
  },
  {
   "cell_type": "markdown",
   "metadata": {},
   "source": [
    "Dataset is higly imbalanced"
   ]
  },
  {
   "cell_type": "code",
   "execution_count": 55,
   "metadata": {
    "ExecuteTime": {
     "end_time": "2019-09-28T11:05:59.196340Z",
     "start_time": "2019-09-28T11:05:59.193314Z"
    }
   },
   "outputs": [],
   "source": [
    "def plot_countplots(feature_name, suptitle, figsize = (10, 5)):\n",
    "    fig, axs = plt.subplots(1, 2, figsize = figsize) \n",
    "    axs = axs.ravel()\n",
    "\n",
    "    for target, ax in enumerate(axs):\n",
    "        sns.countplot(viz_data[viz_data['target'] == target][str(feature_name)], ax = ax)\n",
    "        ax.set_title('Target: {}'.format(target))\n",
    "    fig.suptitle(str(suptitle))\n",
    "    plt.show()    "
   ]
  },
  {
   "cell_type": "code",
   "execution_count": 56,
   "metadata": {
    "ExecuteTime": {
     "end_time": "2019-09-28T11:05:59.516344Z",
     "start_time": "2019-09-28T11:05:59.197325Z"
    }
   },
   "outputs": [
    {
     "data": {
      "image/png": "[encoded data removed]",
      "text/plain": [
       "<Figure size 720x360 with 2 Axes>"
      ]
     },
     "metadata": {
      "needs_background": "light"
     },
     "output_type": "display_data"
    }
   ],
   "source": [
    "viz_data['start_year'] = viz_data['time1'].dt.year\n",
    "plot_countplots('start_year', 'Start years')"
   ]
  },
  {
   "cell_type": "markdown",
   "metadata": {},
   "source": [
    "**Time features**"
   ]
  },
  {
   "cell_type": "code",
   "execution_count": 57,
   "metadata": {
    "ExecuteTime": {
     "end_time": "2019-09-28T11:05:59.744384Z",
     "start_time": "2019-09-28T11:05:59.521553Z"
    }
   },
   "outputs": [
    {
     "data": {
      "image/png": "[encoded data removed]",
      "text/plain": [
       "<Figure size 720x360 with 2 Axes>"
      ]
     },
     "metadata": {
      "needs_background": "light"
     },
     "output_type": "display_data"
    }
   ],
   "source": [
    "viz_data['start_month'] = viz_data['time1'].dt.month\n",
    "plot_countplots('start_month', 'Start months')"
   ]
  },
  {
   "cell_type": "code",
   "execution_count": 58,
   "metadata": {
    "ExecuteTime": {
     "end_time": "2019-09-28T11:05:59.990030Z",
     "start_time": "2019-09-28T11:05:59.746796Z"
    }
   },
   "outputs": [
    {
     "data": {
      "image/png": "[encoded data removed]",
      "text/plain": [
       "<Figure size 720x360 with 2 Axes>"
      ]
     },
     "metadata": {
      "needs_background": "light"
     },
     "output_type": "display_data"
    }
   ],
   "source": [
    "viz_data['start_hour'] = viz_data['time1'].dt.hour\n",
    "plot_countplots('start_hour', 'Start hours')"
   ]
  },
  {
   "cell_type": "markdown",
   "metadata": {},
   "source": [
    "We can see, that Alice prefer to start internet session between 12:00 - 13:00 and 16:00 - 18:00. So, we can encode it into categorical featurs: morning, launch, day, evnening, night. <br>\n",
    "morning: 8:00 - 11:00 <br>\n",
    "launch: 12:00 - 13:00 <br>\n",
    "day: 14:00 - 18:00 <br>\n",
    "evening: 19:00 - 23:00 <br> \n",
    "night: 00:00 - 7:00 (strange night, yeah)\n"
   ]
  },
  {
   "cell_type": "code",
   "execution_count": 59,
   "metadata": {
    "ExecuteTime": {
     "end_time": "2019-09-28T11:06:00.229886Z",
     "start_time": "2019-09-28T11:05:59.991208Z"
    }
   },
   "outputs": [
    {
     "data": {
      "image/png": "[encoded data removed]",
      "text/plain": [
       "<Figure size 720x360 with 2 Axes>"
      ]
     },
     "metadata": {
      "needs_background": "light"
     },
     "output_type": "display_data"
    }
   ],
   "source": [
    "viz_data['week_day'] = viz_data['time1'].dt.weekday\n",
    "plot_countplots('week_day', 'Start day of week')"
   ]
  },
  {
   "cell_type": "markdown",
   "metadata": {},
   "source": [
    "**Text features**"
   ]
  },
  {
   "cell_type": "code",
   "execution_count": null,
   "metadata": {
    "ExecuteTime": {
     "end_time": "2019-09-27T11:33:42.826547Z",
     "start_time": "2019-09-27T11:33:42.821139Z"
    }
   },
   "outputs": [],
   "source": [
    "############### TRY Yellowbrick t-SNE #########################"
   ]
  },
  {
   "cell_type": "code",
   "execution_count": null,
   "metadata": {},
   "outputs": [],
   "source": []
  },
  {
   "cell_type": "code",
   "execution_count": null,
   "metadata": {},
   "outputs": [],
   "source": []
  },
  {
   "cell_type": "code",
   "execution_count": null,
   "metadata": {},
   "outputs": [],
   "source": []
  },
  {
   "cell_type": "code",
   "execution_count": null,
   "metadata": {},
   "outputs": [],
   "source": []
  },
  {
   "cell_type": "code",
   "execution_count": null,
   "metadata": {},
   "outputs": [],
   "source": []
  },
  {
   "cell_type": "code",
   "execution_count": null,
   "metadata": {},
   "outputs": [],
   "source": []
  }
 ],
 "metadata": {
  "kernelspec": {
   "display_name": "Python 3",
   "language": "python",
   "name": "python3"
  },
  "language_info": {
   "codemirror_mode": {
    "name": "ipython",
    "version": 3
   },
   "file_extension": ".py",
   "mimetype": "text/x-python",
   "name": "python",
   "nbconvert_exporter": "python",
   "pygments_lexer": "ipython3",
   "version": "3.6.9"
  }
 },
 "nbformat": 4,
 "nbformat_minor": 2
}
