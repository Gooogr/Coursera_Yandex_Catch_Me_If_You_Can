{
 "cells": [
  {
   "cell_type": "code",
   "execution_count": 1,
   "metadata": {
    "ExecuteTime": {
     "end_time": "2019-09-27T15:10:39.563779Z",
     "start_time": "2019-09-27T15:10:35.668531Z"
    }
   },
   "outputs": [],
   "source": [
    "import os\n",
    "import pandas as pd\n",
    "import numpy as np\n",
    "import pickle\n",
    "\n",
    "from scipy import sparse\n",
    "\n",
    "from sklearn.feature_extraction.text import TfidfVectorizer\n",
    "from sklearn.model_selection import TimeSeriesSplit\n",
    "from sklearn.model_selection import cross_val_score\n",
    "from sklearn.linear_model import LogisticRegression\n",
    "from sklearn.preprocessing import StandardScaler\n",
    "\n",
    "import matplotlib.pyplot as plt\n",
    "import seaborn as sns\n",
    "\n",
    "import eli5\n",
    "from IPython.display import display_html\n",
    "\n",
    "from sklearn.feature_selection import RFECV\n",
    "\n",
    "# try https://www.scikit-yb.org/en/latest/index.html"
   ]
  },
  {
   "cell_type": "code",
   "execution_count": 2,
   "metadata": {
    "ExecuteTime": {
     "end_time": "2019-09-27T15:10:39.567145Z",
     "start_time": "2019-09-27T15:10:39.565016Z"
    }
   },
   "outputs": [],
   "source": [
    "SEED = 42"
   ]
  },
  {
   "cell_type": "code",
   "execution_count": 3,
   "metadata": {
    "ExecuteTime": {
     "end_time": "2019-09-27T15:10:39.649913Z",
     "start_time": "2019-09-27T15:10:39.568499Z"
    }
   },
   "outputs": [],
   "source": [
    "def write_to_submission_file(predicted_labels, out_file,\n",
    "                             target='target', index_label=\"session_id\"):\n",
    "    predicted_df = pd.DataFrame(predicted_labels,\n",
    "                                index = np.arange(1, predicted_labels.shape[0] + 1),\n",
    "                                columns=[target])\n",
    "    predicted_df.to_csv(out_file, index_label=index_label)\n",
    "    \n",
    "def save_obj(path, obj):\n",
    "    with open(path, 'wb') as f:\n",
    "        pickle.dump(obj, f, pickle.HIGHEST_PROTOCOL) # HIGHEST_PROTOCOL - binary protocol\n",
    "\n",
    "\n",
    "def load_obj(path):\n",
    "    with open(path, 'rb') as f:\n",
    "        return pickle.load(f)"
   ]
  },
  {
   "cell_type": "markdown",
   "metadata": {},
   "source": [
    "### Data downloading"
   ]
  },
  {
   "cell_type": "code",
   "execution_count": 4,
   "metadata": {
    "ExecuteTime": {
     "end_time": "2019-09-27T15:10:39.715575Z",
     "start_time": "2019-09-27T15:10:39.654956Z"
    }
   },
   "outputs": [],
   "source": [
    "train_data_path = 'Data/train_sessions.csv'\n",
    "test_data_path = 'Data/test_sessions.csv'\n",
    "dict_path = 'Data/site_dic.pkl'"
   ]
  },
  {
   "cell_type": "code",
   "execution_count": 5,
   "metadata": {
    "ExecuteTime": {
     "end_time": "2019-09-27T15:10:41.018094Z",
     "start_time": "2019-09-27T15:10:39.720297Z"
    }
   },
   "outputs": [
    {
     "data": {
      "text/html": [
       "<div>\n",
       "<style scoped>\n",
       "    .dataframe tbody tr th:only-of-type {\n",
       "        vertical-align: middle;\n",
       "    }\n",
       "\n",
       "    .dataframe tbody tr th {\n",
       "        vertical-align: top;\n",
       "    }\n",
       "\n",
       "    .dataframe thead th {\n",
       "        text-align: right;\n",
       "    }\n",
       "</style>\n",
       "<table border=\"1\" class=\"dataframe\">\n",
       "  <thead>\n",
       "    <tr style=\"text-align: right;\">\n",
       "      <th></th>\n",
       "      <th>session_id</th>\n",
       "      <th>site1</th>\n",
       "      <th>time1</th>\n",
       "      <th>site2</th>\n",
       "      <th>time2</th>\n",
       "      <th>site3</th>\n",
       "      <th>time3</th>\n",
       "      <th>site4</th>\n",
       "      <th>time4</th>\n",
       "      <th>site5</th>\n",
       "      <th>...</th>\n",
       "      <th>time6</th>\n",
       "      <th>site7</th>\n",
       "      <th>time7</th>\n",
       "      <th>site8</th>\n",
       "      <th>time8</th>\n",
       "      <th>site9</th>\n",
       "      <th>time9</th>\n",
       "      <th>site10</th>\n",
       "      <th>time10</th>\n",
       "      <th>target</th>\n",
       "    </tr>\n",
       "  </thead>\n",
       "  <tbody>\n",
       "    <tr>\n",
       "      <td>0</td>\n",
       "      <td>1</td>\n",
       "      <td>718</td>\n",
       "      <td>2014-02-20 10:02:45</td>\n",
       "      <td>NaN</td>\n",
       "      <td>NaN</td>\n",
       "      <td>NaN</td>\n",
       "      <td>NaN</td>\n",
       "      <td>NaN</td>\n",
       "      <td>NaN</td>\n",
       "      <td>NaN</td>\n",
       "      <td>...</td>\n",
       "      <td>NaN</td>\n",
       "      <td>NaN</td>\n",
       "      <td>NaN</td>\n",
       "      <td>NaN</td>\n",
       "      <td>NaN</td>\n",
       "      <td>NaN</td>\n",
       "      <td>NaN</td>\n",
       "      <td>NaN</td>\n",
       "      <td>NaN</td>\n",
       "      <td>0</td>\n",
       "    </tr>\n",
       "    <tr>\n",
       "      <td>1</td>\n",
       "      <td>2</td>\n",
       "      <td>890</td>\n",
       "      <td>2014-02-22 11:19:50</td>\n",
       "      <td>941.0</td>\n",
       "      <td>2014-02-22 11:19:50</td>\n",
       "      <td>3847.0</td>\n",
       "      <td>2014-02-22 11:19:51</td>\n",
       "      <td>941.0</td>\n",
       "      <td>2014-02-22 11:19:51</td>\n",
       "      <td>942.0</td>\n",
       "      <td>...</td>\n",
       "      <td>2014-02-22 11:19:51</td>\n",
       "      <td>3847.0</td>\n",
       "      <td>2014-02-22 11:19:52</td>\n",
       "      <td>3846.0</td>\n",
       "      <td>2014-02-22 11:19:52</td>\n",
       "      <td>1516.0</td>\n",
       "      <td>2014-02-22 11:20:15</td>\n",
       "      <td>1518.0</td>\n",
       "      <td>2014-02-22 11:20:16</td>\n",
       "      <td>0</td>\n",
       "    </tr>\n",
       "    <tr>\n",
       "      <td>2</td>\n",
       "      <td>3</td>\n",
       "      <td>14769</td>\n",
       "      <td>2013-12-16 16:40:17</td>\n",
       "      <td>39.0</td>\n",
       "      <td>2013-12-16 16:40:18</td>\n",
       "      <td>14768.0</td>\n",
       "      <td>2013-12-16 16:40:19</td>\n",
       "      <td>14769.0</td>\n",
       "      <td>2013-12-16 16:40:19</td>\n",
       "      <td>37.0</td>\n",
       "      <td>...</td>\n",
       "      <td>2013-12-16 16:40:19</td>\n",
       "      <td>14768.0</td>\n",
       "      <td>2013-12-16 16:40:20</td>\n",
       "      <td>14768.0</td>\n",
       "      <td>2013-12-16 16:40:21</td>\n",
       "      <td>14768.0</td>\n",
       "      <td>2013-12-16 16:40:22</td>\n",
       "      <td>14768.0</td>\n",
       "      <td>2013-12-16 16:40:24</td>\n",
       "      <td>0</td>\n",
       "    </tr>\n",
       "    <tr>\n",
       "      <td>3</td>\n",
       "      <td>4</td>\n",
       "      <td>782</td>\n",
       "      <td>2014-03-28 10:52:12</td>\n",
       "      <td>782.0</td>\n",
       "      <td>2014-03-28 10:52:42</td>\n",
       "      <td>782.0</td>\n",
       "      <td>2014-03-28 10:53:12</td>\n",
       "      <td>782.0</td>\n",
       "      <td>2014-03-28 10:53:42</td>\n",
       "      <td>782.0</td>\n",
       "      <td>...</td>\n",
       "      <td>2014-03-28 10:54:42</td>\n",
       "      <td>782.0</td>\n",
       "      <td>2014-03-28 10:55:12</td>\n",
       "      <td>782.0</td>\n",
       "      <td>2014-03-28 10:55:42</td>\n",
       "      <td>782.0</td>\n",
       "      <td>2014-03-28 10:56:12</td>\n",
       "      <td>782.0</td>\n",
       "      <td>2014-03-28 10:56:42</td>\n",
       "      <td>0</td>\n",
       "    </tr>\n",
       "    <tr>\n",
       "      <td>4</td>\n",
       "      <td>5</td>\n",
       "      <td>22</td>\n",
       "      <td>2014-02-28 10:53:05</td>\n",
       "      <td>177.0</td>\n",
       "      <td>2014-02-28 10:55:22</td>\n",
       "      <td>175.0</td>\n",
       "      <td>2014-02-28 10:55:22</td>\n",
       "      <td>178.0</td>\n",
       "      <td>2014-02-28 10:55:23</td>\n",
       "      <td>177.0</td>\n",
       "      <td>...</td>\n",
       "      <td>2014-02-28 10:55:59</td>\n",
       "      <td>175.0</td>\n",
       "      <td>2014-02-28 10:55:59</td>\n",
       "      <td>177.0</td>\n",
       "      <td>2014-02-28 10:55:59</td>\n",
       "      <td>177.0</td>\n",
       "      <td>2014-02-28 10:57:06</td>\n",
       "      <td>178.0</td>\n",
       "      <td>2014-02-28 10:57:11</td>\n",
       "      <td>0</td>\n",
       "    </tr>\n",
       "  </tbody>\n",
       "</table>\n",
       "<p>5 rows × 22 columns</p>\n",
       "</div>"
      ],
      "text/plain": [
       "   session_id  site1                time1  site2                time2  \\\n",
       "0           1    718  2014-02-20 10:02:45    NaN                  NaN   \n",
       "1           2    890  2014-02-22 11:19:50  941.0  2014-02-22 11:19:50   \n",
       "2           3  14769  2013-12-16 16:40:17   39.0  2013-12-16 16:40:18   \n",
       "3           4    782  2014-03-28 10:52:12  782.0  2014-03-28 10:52:42   \n",
       "4           5     22  2014-02-28 10:53:05  177.0  2014-02-28 10:55:22   \n",
       "\n",
       "     site3                time3    site4                time4  site5  ...  \\\n",
       "0      NaN                  NaN      NaN                  NaN    NaN  ...   \n",
       "1   3847.0  2014-02-22 11:19:51    941.0  2014-02-22 11:19:51  942.0  ...   \n",
       "2  14768.0  2013-12-16 16:40:19  14769.0  2013-12-16 16:40:19   37.0  ...   \n",
       "3    782.0  2014-03-28 10:53:12    782.0  2014-03-28 10:53:42  782.0  ...   \n",
       "4    175.0  2014-02-28 10:55:22    178.0  2014-02-28 10:55:23  177.0  ...   \n",
       "\n",
       "                 time6    site7                time7    site8  \\\n",
       "0                  NaN      NaN                  NaN      NaN   \n",
       "1  2014-02-22 11:19:51   3847.0  2014-02-22 11:19:52   3846.0   \n",
       "2  2013-12-16 16:40:19  14768.0  2013-12-16 16:40:20  14768.0   \n",
       "3  2014-03-28 10:54:42    782.0  2014-03-28 10:55:12    782.0   \n",
       "4  2014-02-28 10:55:59    175.0  2014-02-28 10:55:59    177.0   \n",
       "\n",
       "                 time8    site9                time9   site10  \\\n",
       "0                  NaN      NaN                  NaN      NaN   \n",
       "1  2014-02-22 11:19:52   1516.0  2014-02-22 11:20:15   1518.0   \n",
       "2  2013-12-16 16:40:21  14768.0  2013-12-16 16:40:22  14768.0   \n",
       "3  2014-03-28 10:55:42    782.0  2014-03-28 10:56:12    782.0   \n",
       "4  2014-02-28 10:55:59    177.0  2014-02-28 10:57:06    178.0   \n",
       "\n",
       "                time10  target  \n",
       "0                  NaN       0  \n",
       "1  2014-02-22 11:20:16       0  \n",
       "2  2013-12-16 16:40:24       0  \n",
       "3  2014-03-28 10:56:42       0  \n",
       "4  2014-02-28 10:57:11       0  \n",
       "\n",
       "[5 rows x 22 columns]"
      ]
     },
     "execution_count": 5,
     "metadata": {},
     "output_type": "execute_result"
    }
   ],
   "source": [
    "raw_train = pd.read_csv(train_data_path)\n",
    "raw_train.head()"
   ]
  },
  {
   "cell_type": "code",
   "execution_count": 6,
   "metadata": {
    "ExecuteTime": {
     "end_time": "2019-09-27T15:10:41.419116Z",
     "start_time": "2019-09-27T15:10:41.019301Z"
    }
   },
   "outputs": [
    {
     "data": {
      "text/html": [
       "<div>\n",
       "<style scoped>\n",
       "    .dataframe tbody tr th:only-of-type {\n",
       "        vertical-align: middle;\n",
       "    }\n",
       "\n",
       "    .dataframe tbody tr th {\n",
       "        vertical-align: top;\n",
       "    }\n",
       "\n",
       "    .dataframe thead th {\n",
       "        text-align: right;\n",
       "    }\n",
       "</style>\n",
       "<table border=\"1\" class=\"dataframe\">\n",
       "  <thead>\n",
       "    <tr style=\"text-align: right;\">\n",
       "      <th></th>\n",
       "      <th>session_id</th>\n",
       "      <th>site1</th>\n",
       "      <th>time1</th>\n",
       "      <th>site2</th>\n",
       "      <th>time2</th>\n",
       "      <th>site3</th>\n",
       "      <th>time3</th>\n",
       "      <th>site4</th>\n",
       "      <th>time4</th>\n",
       "      <th>site5</th>\n",
       "      <th>...</th>\n",
       "      <th>site6</th>\n",
       "      <th>time6</th>\n",
       "      <th>site7</th>\n",
       "      <th>time7</th>\n",
       "      <th>site8</th>\n",
       "      <th>time8</th>\n",
       "      <th>site9</th>\n",
       "      <th>time9</th>\n",
       "      <th>site10</th>\n",
       "      <th>time10</th>\n",
       "    </tr>\n",
       "  </thead>\n",
       "  <tbody>\n",
       "    <tr>\n",
       "      <td>0</td>\n",
       "      <td>1</td>\n",
       "      <td>29</td>\n",
       "      <td>2014-10-04 11:19:53</td>\n",
       "      <td>35.0</td>\n",
       "      <td>2014-10-04 11:19:53</td>\n",
       "      <td>22.0</td>\n",
       "      <td>2014-10-04 11:19:54</td>\n",
       "      <td>321.0</td>\n",
       "      <td>2014-10-04 11:19:54</td>\n",
       "      <td>23.0</td>\n",
       "      <td>...</td>\n",
       "      <td>2211.0</td>\n",
       "      <td>2014-10-04 11:19:54</td>\n",
       "      <td>6730.0</td>\n",
       "      <td>2014-10-04 11:19:54</td>\n",
       "      <td>21.0</td>\n",
       "      <td>2014-10-04 11:19:54</td>\n",
       "      <td>44582.0</td>\n",
       "      <td>2014-10-04 11:20:00</td>\n",
       "      <td>15336.0</td>\n",
       "      <td>2014-10-04 11:20:00</td>\n",
       "    </tr>\n",
       "    <tr>\n",
       "      <td>1</td>\n",
       "      <td>2</td>\n",
       "      <td>782</td>\n",
       "      <td>2014-07-03 11:00:28</td>\n",
       "      <td>782.0</td>\n",
       "      <td>2014-07-03 11:00:53</td>\n",
       "      <td>782.0</td>\n",
       "      <td>2014-07-03 11:00:58</td>\n",
       "      <td>782.0</td>\n",
       "      <td>2014-07-03 11:01:06</td>\n",
       "      <td>782.0</td>\n",
       "      <td>...</td>\n",
       "      <td>782.0</td>\n",
       "      <td>2014-07-03 11:01:10</td>\n",
       "      <td>782.0</td>\n",
       "      <td>2014-07-03 11:01:23</td>\n",
       "      <td>782.0</td>\n",
       "      <td>2014-07-03 11:01:29</td>\n",
       "      <td>782.0</td>\n",
       "      <td>2014-07-03 11:01:30</td>\n",
       "      <td>782.0</td>\n",
       "      <td>2014-07-03 11:01:53</td>\n",
       "    </tr>\n",
       "    <tr>\n",
       "      <td>2</td>\n",
       "      <td>3</td>\n",
       "      <td>55</td>\n",
       "      <td>2014-12-05 15:55:12</td>\n",
       "      <td>55.0</td>\n",
       "      <td>2014-12-05 15:55:13</td>\n",
       "      <td>55.0</td>\n",
       "      <td>2014-12-05 15:55:14</td>\n",
       "      <td>55.0</td>\n",
       "      <td>2014-12-05 15:56:15</td>\n",
       "      <td>55.0</td>\n",
       "      <td>...</td>\n",
       "      <td>55.0</td>\n",
       "      <td>2014-12-05 15:56:17</td>\n",
       "      <td>55.0</td>\n",
       "      <td>2014-12-05 15:56:18</td>\n",
       "      <td>55.0</td>\n",
       "      <td>2014-12-05 15:56:19</td>\n",
       "      <td>1445.0</td>\n",
       "      <td>2014-12-05 15:56:33</td>\n",
       "      <td>1445.0</td>\n",
       "      <td>2014-12-05 15:56:36</td>\n",
       "    </tr>\n",
       "    <tr>\n",
       "      <td>3</td>\n",
       "      <td>4</td>\n",
       "      <td>1023</td>\n",
       "      <td>2014-11-04 10:03:19</td>\n",
       "      <td>1022.0</td>\n",
       "      <td>2014-11-04 10:03:19</td>\n",
       "      <td>50.0</td>\n",
       "      <td>2014-11-04 10:03:20</td>\n",
       "      <td>222.0</td>\n",
       "      <td>2014-11-04 10:03:21</td>\n",
       "      <td>202.0</td>\n",
       "      <td>...</td>\n",
       "      <td>3374.0</td>\n",
       "      <td>2014-11-04 10:03:22</td>\n",
       "      <td>50.0</td>\n",
       "      <td>2014-11-04 10:03:22</td>\n",
       "      <td>48.0</td>\n",
       "      <td>2014-11-04 10:03:22</td>\n",
       "      <td>48.0</td>\n",
       "      <td>2014-11-04 10:03:23</td>\n",
       "      <td>3374.0</td>\n",
       "      <td>2014-11-04 10:03:23</td>\n",
       "    </tr>\n",
       "    <tr>\n",
       "      <td>4</td>\n",
       "      <td>5</td>\n",
       "      <td>301</td>\n",
       "      <td>2014-05-16 15:05:31</td>\n",
       "      <td>301.0</td>\n",
       "      <td>2014-05-16 15:05:32</td>\n",
       "      <td>301.0</td>\n",
       "      <td>2014-05-16 15:05:33</td>\n",
       "      <td>66.0</td>\n",
       "      <td>2014-05-16 15:05:39</td>\n",
       "      <td>67.0</td>\n",
       "      <td>...</td>\n",
       "      <td>69.0</td>\n",
       "      <td>2014-05-16 15:05:40</td>\n",
       "      <td>70.0</td>\n",
       "      <td>2014-05-16 15:05:40</td>\n",
       "      <td>68.0</td>\n",
       "      <td>2014-05-16 15:05:40</td>\n",
       "      <td>71.0</td>\n",
       "      <td>2014-05-16 15:05:40</td>\n",
       "      <td>167.0</td>\n",
       "      <td>2014-05-16 15:05:44</td>\n",
       "    </tr>\n",
       "  </tbody>\n",
       "</table>\n",
       "<p>5 rows × 21 columns</p>\n",
       "</div>"
      ],
      "text/plain": [
       "   session_id  site1                time1   site2                time2  site3  \\\n",
       "0           1     29  2014-10-04 11:19:53    35.0  2014-10-04 11:19:53   22.0   \n",
       "1           2    782  2014-07-03 11:00:28   782.0  2014-07-03 11:00:53  782.0   \n",
       "2           3     55  2014-12-05 15:55:12    55.0  2014-12-05 15:55:13   55.0   \n",
       "3           4   1023  2014-11-04 10:03:19  1022.0  2014-11-04 10:03:19   50.0   \n",
       "4           5    301  2014-05-16 15:05:31   301.0  2014-05-16 15:05:32  301.0   \n",
       "\n",
       "                 time3  site4                time4  site5  ...   site6  \\\n",
       "0  2014-10-04 11:19:54  321.0  2014-10-04 11:19:54   23.0  ...  2211.0   \n",
       "1  2014-07-03 11:00:58  782.0  2014-07-03 11:01:06  782.0  ...   782.0   \n",
       "2  2014-12-05 15:55:14   55.0  2014-12-05 15:56:15   55.0  ...    55.0   \n",
       "3  2014-11-04 10:03:20  222.0  2014-11-04 10:03:21  202.0  ...  3374.0   \n",
       "4  2014-05-16 15:05:33   66.0  2014-05-16 15:05:39   67.0  ...    69.0   \n",
       "\n",
       "                 time6   site7                time7  site8  \\\n",
       "0  2014-10-04 11:19:54  6730.0  2014-10-04 11:19:54   21.0   \n",
       "1  2014-07-03 11:01:10   782.0  2014-07-03 11:01:23  782.0   \n",
       "2  2014-12-05 15:56:17    55.0  2014-12-05 15:56:18   55.0   \n",
       "3  2014-11-04 10:03:22    50.0  2014-11-04 10:03:22   48.0   \n",
       "4  2014-05-16 15:05:40    70.0  2014-05-16 15:05:40   68.0   \n",
       "\n",
       "                 time8    site9                time9   site10  \\\n",
       "0  2014-10-04 11:19:54  44582.0  2014-10-04 11:20:00  15336.0   \n",
       "1  2014-07-03 11:01:29    782.0  2014-07-03 11:01:30    782.0   \n",
       "2  2014-12-05 15:56:19   1445.0  2014-12-05 15:56:33   1445.0   \n",
       "3  2014-11-04 10:03:22     48.0  2014-11-04 10:03:23   3374.0   \n",
       "4  2014-05-16 15:05:40     71.0  2014-05-16 15:05:40    167.0   \n",
       "\n",
       "                time10  \n",
       "0  2014-10-04 11:20:00  \n",
       "1  2014-07-03 11:01:53  \n",
       "2  2014-12-05 15:56:36  \n",
       "3  2014-11-04 10:03:23  \n",
       "4  2014-05-16 15:05:44  \n",
       "\n",
       "[5 rows x 21 columns]"
      ]
     },
     "execution_count": 6,
     "metadata": {},
     "output_type": "execute_result"
    }
   ],
   "source": [
    "raw_test = pd.read_csv(test_data_path)\n",
    "raw_test.head()"
   ]
  },
  {
   "cell_type": "code",
   "execution_count": 7,
   "metadata": {
    "ExecuteTime": {
     "end_time": "2019-09-27T15:10:41.433316Z",
     "start_time": "2019-09-27T15:10:41.420315Z"
    }
   },
   "outputs": [],
   "source": [
    "with open(dict_path, 'rb') as file:\n",
    "    site2id_dict = pickle.load(file)"
   ]
  },
  {
   "cell_type": "code",
   "execution_count": 8,
   "metadata": {
    "ExecuteTime": {
     "end_time": "2019-09-27T15:10:41.499677Z",
     "start_time": "2019-09-27T15:10:41.434861Z"
    }
   },
   "outputs": [
    {
     "name": "stdout",
     "output_type": "stream",
     "text": [
      "(253561, 22) (82797, 21)\n"
     ]
    }
   ],
   "source": [
    "print(raw_train.shape, raw_test.shape)"
   ]
  },
  {
   "cell_type": "markdown",
   "metadata": {},
   "source": [
    "https://www.kaggle.com/kashnitsky/model-validation-in-a-competition#Submission-3:-Example-of-overfitting"
   ]
  },
  {
   "cell_type": "markdown",
   "metadata": {
    "heading_collapsed": true
   },
   "source": [
    "### Bag of words (TfidfVectorizer) preparation"
   ]
  },
  {
   "cell_type": "code",
   "execution_count": 9,
   "metadata": {
    "ExecuteTime": {
     "end_time": "2019-09-27T15:10:41.573889Z",
     "start_time": "2019-09-27T15:10:41.501680Z"
    },
    "hidden": true
   },
   "outputs": [],
   "source": [
    "def prepare_tfidf_features(train_df, test_df, site_dict, vectorizer_params):\n",
    "    site_columns = ['site{}'.format(i) for i in range(1, 11)]\n",
    "    time_columns = ['time{}'.format(i) for i in range(1, 11)]\n",
    "    \n",
    "    # Make inverse dict\n",
    "    id2site_dict = {v: k for (k, v) in site2id_dict.items()}\n",
    "    id2site_dict[0] = 'unknown'\n",
    "    \n",
    "    # Sort values by initial session time to avoid a data leak during cross-validation.\n",
    "    # Prepare df for mapping\n",
    "    train_df = train_df.sort_values('time1').reset_index(drop = True)\n",
    "    \n",
    "    train_sessions = train_df[site_columns].fillna(0).astype('int').apply(lambda row:\n",
    "                                                                          ' '.join([id2site_dict[i] for i in row]), axis = 1).tolist()\n",
    "    test_sessions = test_df[site_columns].fillna(0).astype('int').apply(lambda row:\n",
    "                                                                          ' '.join([id2site_dict[i] for i in row]), axis = 1).tolist()\n",
    "    # encoding\n",
    "    vectorizer = TfidfVectorizer(**vectorizer_params)\n",
    "    X_train_tfidf =  vectorizer.fit_transform(train_sessions)\n",
    "    X_test_tfidf = vectorizer.transform(test_sessions)\n",
    "    \n",
    "    tfidf_feature_names = vectorizer.get_feature_names() \n",
    "    \n",
    "    y_train = train_df ['target'].astype('int').to_numpy()\n",
    "    \n",
    "    for column_name in time_columns:\n",
    "        train_df[column_name] = pd.to_datetime(train_df[column_name])\n",
    "        test_df[column_name] = pd.to_datetime(test_df[column_name])\n",
    "        \n",
    "    X_train_time = train_df[time_columns]\n",
    "    X_test_time = test_df[time_columns]\n",
    "    \n",
    "    \n",
    "    \n",
    "    return list(tfidf_feature_names), X_train_tfidf, X_test_tfidf, X_train_time, X_test_time, y_train"
   ]
  },
  {
   "cell_type": "code",
   "execution_count": 10,
   "metadata": {
    "ExecuteTime": {
     "end_time": "2019-09-27T15:10:41.679580Z",
     "start_time": "2019-09-27T15:10:41.576151Z"
    },
    "hidden": true
   },
   "outputs": [],
   "source": [
    "vectorizer_params={'ngram_range': (1, 5), \n",
    "                    'max_features': 50000,\n",
    "                    'tokenizer': lambda s: s.split()}"
   ]
  },
  {
   "cell_type": "code",
   "execution_count": 11,
   "metadata": {
    "ExecuteTime": {
     "end_time": "2019-09-27T15:11:04.778280Z",
     "start_time": "2019-09-27T15:10:41.684855Z"
    },
    "hidden": true
   },
   "outputs": [
    {
     "name": "stdout",
     "output_type": "stream",
     "text": [
      "CPU times: user 25.3 s, sys: 576 ms, total: 25.9 s\n",
      "Wall time: 23 s\n"
     ]
    }
   ],
   "source": [
    "%%time\n",
    "temp_output = prepare_tfidf_features(raw_train, raw_test, site_dict = site2id_dict, \n",
    "                                     vectorizer_params = vectorizer_params)\n",
    "tfidf_feature_names, X_train_tfidf, X_test_tfidf, X_train_time, X_test_time, y_train = temp_output"
   ]
  },
  {
   "cell_type": "markdown",
   "metadata": {},
   "source": [
    "### Naive linear model"
   ]
  },
  {
   "cell_type": "markdown",
   "metadata": {},
   "source": [
    "Set up cross-validation strategy"
   ]
  },
  {
   "cell_type": "code",
   "execution_count": 27,
   "metadata": {
    "ExecuteTime": {
     "end_time": "2019-09-27T15:12:12.239854Z",
     "start_time": "2019-09-27T15:12:12.225972Z"
    }
   },
   "outputs": [],
   "source": [
    "cross_val_time_split = TimeSeriesSplit(n_splits = 10)"
   ]
  },
  {
   "cell_type": "markdown",
   "metadata": {},
   "source": [
    "Create logistic model"
   ]
  },
  {
   "cell_type": "code",
   "execution_count": 28,
   "metadata": {
    "ExecuteTime": {
     "end_time": "2019-09-27T15:12:12.892612Z",
     "start_time": "2019-09-27T15:12:12.883427Z"
    }
   },
   "outputs": [],
   "source": [
    "logistic_params = {'random_state': SEED, \n",
    "                   'solver': 'liblinear',\n",
    "                   'C': 1}\n",
    "logit = LogisticRegression(**logistic_params)"
   ]
  },
  {
   "cell_type": "code",
   "execution_count": 29,
   "metadata": {
    "ExecuteTime": {
     "end_time": "2019-09-27T15:12:19.252963Z",
     "start_time": "2019-09-27T15:12:13.227605Z"
    }
   },
   "outputs": [],
   "source": [
    "naive_cross_val_score = cross_val_score(logit, X_train_tfidf, y_train, \n",
    "                                        cv = cross_val_time_split, scoring = 'roc_auc')"
   ]
  },
  {
   "cell_type": "code",
   "execution_count": null,
   "metadata": {
    "ExecuteTime": {
     "end_time": "2019-09-27T11:31:15.692413Z",
     "start_time": "2019-09-27T11:31:15.686873Z"
    }
   },
   "outputs": [],
   "source": [
    "print('roc-auc scores by folds: \\n', naive_cross_val_score)\n",
    "print()\n",
    "print('mean roc-auc score: ', naive_cross_val_score.mean())"
   ]
  },
  {
   "cell_type": "code",
   "execution_count": null,
   "metadata": {
    "ExecuteTime": {
     "end_time": "2019-09-27T11:31:41.989643Z",
     "start_time": "2019-09-27T11:31:40.750897Z"
    }
   },
   "outputs": [],
   "source": [
    "logit.fit(X_train_tfidf, y_train)\n",
    "naive_logit_predictions = logit.predict_proba(X_test_tfidf)[:, 1]"
   ]
  },
  {
   "cell_type": "code",
   "execution_count": null,
   "metadata": {
    "ExecuteTime": {
     "end_time": "2019-09-27T11:31:42.168020Z",
     "start_time": "2019-09-27T11:31:41.990623Z"
    }
   },
   "outputs": [],
   "source": [
    "write_to_submission_file(naive_logit_predictions, 'Predictions/naive_logit_predictions.csv')"
   ]
  },
  {
   "cell_type": "code",
   "execution_count": null,
   "metadata": {
    "ExecuteTime": {
     "end_time": "2019-09-27T13:12:20.226770Z",
     "start_time": "2019-09-27T13:12:20.224074Z"
    }
   },
   "outputs": [],
   "source": [
    "naive_kaggle_result = 0.91803\n",
    "print(naive_kaggle_result)"
   ]
  },
  {
   "cell_type": "code",
   "execution_count": null,
   "metadata": {
    "ExecuteTime": {
     "end_time": "2019-09-27T11:31:42.176190Z",
     "start_time": "2019-09-27T11:31:42.170219Z"
    }
   },
   "outputs": [],
   "source": [
    "eli5.show_weights(estimator = logit,\n",
    "                  feature_names = tfidf_feature_names,\n",
    "                  top = 30)"
   ]
  },
  {
   "cell_type": "markdown",
   "metadata": {
    "heading_collapsed": true
   },
   "source": [
    "### EDA"
   ]
  },
  {
   "cell_type": "code",
   "execution_count": null,
   "metadata": {
    "ExecuteTime": {
     "end_time": "2019-09-27T11:33:38.417488Z",
     "start_time": "2019-09-27T11:33:38.412581Z"
    },
    "hidden": true
   },
   "outputs": [],
   "source": [
    "viz_data = X_train_time.copy()\n",
    "viz_data['target'] = y_train"
   ]
  },
  {
   "cell_type": "code",
   "execution_count": null,
   "metadata": {
    "ExecuteTime": {
     "end_time": "2019-09-27T11:33:40.811867Z",
     "start_time": "2019-09-27T11:33:40.726212Z"
    },
    "hidden": true
   },
   "outputs": [],
   "source": [
    "viz_data['target'].value_counts().reset_index().plot.bar(x = 'index', y = 'target')\n",
    "plt.title('Target distribution')\n",
    "plt.show()"
   ]
  },
  {
   "cell_type": "markdown",
   "metadata": {
    "hidden": true
   },
   "source": [
    "Dataset is higly imbalanced"
   ]
  },
  {
   "cell_type": "code",
   "execution_count": null,
   "metadata": {
    "ExecuteTime": {
     "end_time": "2019-09-27T11:33:41.109582Z",
     "start_time": "2019-09-27T11:33:41.095162Z"
    },
    "hidden": true
   },
   "outputs": [],
   "source": [
    "def plot_countplots(feature_name, suptitle, figsize = (10, 5)):\n",
    "    fig, axs = plt.subplots(1, 2, figsize = figsize) \n",
    "    axs = axs.ravel()\n",
    "\n",
    "    for target, ax in enumerate(axs):\n",
    "        sns.countplot(viz_data[viz_data['target'] == target][str(feature_name)], ax = ax)\n",
    "        ax.set_title('Target: {}'.format(target))\n",
    "    fig.suptitle(str(suptitle))\n",
    "    plt.show()    "
   ]
  },
  {
   "cell_type": "code",
   "execution_count": null,
   "metadata": {
    "ExecuteTime": {
     "end_time": "2019-09-27T11:33:41.680807Z",
     "start_time": "2019-09-27T11:33:41.495347Z"
    },
    "hidden": true
   },
   "outputs": [],
   "source": [
    "viz_data['start_year'] = viz_data['time1'].dt.year\n",
    "plot_countplots('start_year', 'Start years')"
   ]
  },
  {
   "cell_type": "markdown",
   "metadata": {
    "hidden": true
   },
   "source": [
    "**Time features**"
   ]
  },
  {
   "cell_type": "code",
   "execution_count": null,
   "metadata": {
    "ExecuteTime": {
     "end_time": "2019-09-27T11:33:42.112409Z",
     "start_time": "2019-09-27T11:33:41.893500Z"
    },
    "hidden": true
   },
   "outputs": [],
   "source": [
    "viz_data['start_month'] = viz_data['time1'].dt.month\n",
    "plot_countplots('start_month', 'Start months')"
   ]
  },
  {
   "cell_type": "code",
   "execution_count": null,
   "metadata": {
    "ExecuteTime": {
     "end_time": "2019-09-27T11:33:42.401381Z",
     "start_time": "2019-09-27T11:33:42.113519Z"
    },
    "hidden": true
   },
   "outputs": [],
   "source": [
    "viz_data['start_hour'] = viz_data['time1'].dt.hour\n",
    "plot_countplots('start_hour', 'Start hours')"
   ]
  },
  {
   "cell_type": "markdown",
   "metadata": {
    "hidden": true
   },
   "source": [
    "We can see, that Alice prefer to start internet session between 12:00 - 13:00 and 16:00 - 18:00. So, we can encode it into categorical featurs: morning, launch, day, evnening, night. <br>\n",
    "morning: 8:00 - 11:00 <br>\n",
    "launch: 12:00 - 13:00 <br>\n",
    "day: 14:00 - 18:00 <br>\n",
    "evening: 19:00 - 23:00 <br> \n",
    "night: 00:00 - 7:00 (strange night, yeah)\n"
   ]
  },
  {
   "cell_type": "code",
   "execution_count": null,
   "metadata": {
    "ExecuteTime": {
     "end_time": "2019-09-27T11:33:42.624526Z",
     "start_time": "2019-09-27T11:33:42.421868Z"
    },
    "hidden": true
   },
   "outputs": [],
   "source": [
    "viz_data['week_day'] = viz_data['time1'].dt.weekday\n",
    "plot_countplots('week_day', 'Start day of week')"
   ]
  },
  {
   "cell_type": "markdown",
   "metadata": {
    "hidden": true
   },
   "source": [
    "**Text features**"
   ]
  },
  {
   "cell_type": "code",
   "execution_count": null,
   "metadata": {
    "ExecuteTime": {
     "end_time": "2019-09-27T11:33:42.826547Z",
     "start_time": "2019-09-27T11:33:42.821139Z"
    },
    "hidden": true
   },
   "outputs": [],
   "source": [
    "############### TRY Yellowbrick t-SNE #########################"
   ]
  },
  {
   "cell_type": "code",
   "execution_count": null,
   "metadata": {
    "hidden": true
   },
   "outputs": [],
   "source": []
  },
  {
   "cell_type": "code",
   "execution_count": null,
   "metadata": {
    "hidden": true
   },
   "outputs": [],
   "source": []
  },
  {
   "cell_type": "code",
   "execution_count": null,
   "metadata": {
    "hidden": true
   },
   "outputs": [],
   "source": []
  },
  {
   "cell_type": "code",
   "execution_count": null,
   "metadata": {
    "hidden": true
   },
   "outputs": [],
   "source": []
  },
  {
   "cell_type": "code",
   "execution_count": null,
   "metadata": {
    "hidden": true
   },
   "outputs": [],
   "source": []
  },
  {
   "cell_type": "code",
   "execution_count": null,
   "metadata": {
    "hidden": true
   },
   "outputs": [],
   "source": []
  }
 ],
 "metadata": {
  "kernelspec": {
   "display_name": "Python 3",
   "language": "python",
   "name": "python3"
  },
  "language_info": {
   "codemirror_mode": {
    "name": "ipython",
    "version": 3
   },
   "file_extension": ".py",
   "mimetype": "text/x-python",
   "name": "python",
   "nbconvert_exporter": "python",
   "pygments_lexer": "ipython3",
   "version": "3.6.9"
  }
 },
 "nbformat": 4,
 "nbformat_minor": 2
}
